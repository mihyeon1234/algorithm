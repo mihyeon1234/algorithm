{
 "cells": [
  {
   "cell_type": "code",
   "execution_count": null,
   "id": "e937de3e",
   "metadata": {},
   "outputs": [],
   "source": [
    "A, B, V = map(int, input().split())\n",
    "if (V-A) % (A-B) == 0 :\n",
    "    print(int(((V-A) / (A-B)) + 1))\n",
    "else :\n",
    "    print(((V-A) // (A-B)) + 2)"
   ]
  }
 ],
 "metadata": {
  "kernelspec": {
   "display_name": "Python 3.9.13 64-bit",
   "language": "python",
   "name": "python3"
  },
  "language_info": {
   "codemirror_mode": {
    "name": "ipython",
    "version": 3
   },
   "file_extension": ".py",
   "mimetype": "text/x-python",
   "name": "python",
   "nbconvert_exporter": "python",
   "pygments_lexer": "ipython3",
   "version": "3.9.13"
  },
  "vscode": {
   "interpreter": {
    "hash": "ab16059622568e20cb179073cd7f87bdd3769e07d3f968ed1a78700045d9755f"
   }
  }
 },
 "nbformat": 4,
 "nbformat_minor": 5
}
