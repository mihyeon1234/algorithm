{
 "cells": [
  {
   "cell_type": "code",
   "execution_count": 5,
   "id": "5881f40c",
   "metadata": {},
   "outputs": [
    {
     "name": "stdout",
     "output_type": "stream",
     "text": [
      "3\n",
      "29\n",
      "38\n",
      "12\n",
      "57\n",
      "74\n",
      "40\n",
      "85\n",
      "61\n",
      "85\n",
      "7\n"
     ]
    }
   ],
   "source": [
    "i = 0\n",
    "lst = []\n",
    "while i < 9 :\n",
    "    num = int(input())\n",
    "    lst.append(num)\n",
    "    i += 1\n",
    "A = max(lst)\n",
    "B = lst.index(max(lst))\n",
    "print(A)\n",
    "print(B + 1)\n",
    "    "
   ]
  },
  {
   "cell_type": "code",
   "execution_count": null,
   "id": "c94f1e7c",
   "metadata": {},
   "outputs": [],
   "source": []
  }
 ],
 "metadata": {
  "kernelspec": {
   "display_name": "Python 3 (ipykernel)",
   "language": "python",
   "name": "python3"
  },
  "language_info": {
   "codemirror_mode": {
    "name": "ipython",
    "version": 3
   },
   "file_extension": ".py",
   "mimetype": "text/x-python",
   "name": "python",
   "nbconvert_exporter": "python",
   "pygments_lexer": "ipython3",
   "version": "3.9.13"
  }
 },
 "nbformat": 4,
 "nbformat_minor": 5
}
