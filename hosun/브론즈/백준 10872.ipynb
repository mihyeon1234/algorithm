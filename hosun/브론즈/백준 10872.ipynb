{
 "cells": [
  {
   "cell_type": "code",
   "execution_count": null,
   "id": "7bb5e71f",
   "metadata": {},
   "outputs": [],
   "source": [
    "num = int(input())\n",
    "if num == 0 :\n",
    "    print(1)\n",
    "else:\n",
    "    ans = 1\n",
    "    for i in range(1, num+1) :\n",
    "        ans *= i\n",
    "\n",
    "    print(ans)"
   ]
  }
 ],
 "metadata": {
  "kernelspec": {
   "display_name": "Python 3 (ipykernel)",
   "language": "python",
   "name": "python3"
  },
  "language_info": {
   "codemirror_mode": {
    "name": "ipython",
    "version": 3
   },
   "file_extension": ".py",
   "mimetype": "text/x-python",
   "name": "python",
   "nbconvert_exporter": "python",
   "pygments_lexer": "ipython3",
   "version": "3.9.13"
  }
 },
 "nbformat": 4,
 "nbformat_minor": 5
}
