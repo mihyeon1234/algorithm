{
 "cells": [
  {
   "cell_type": "code",
   "execution_count": 23,
   "id": "245d9a54",
   "metadata": {
    "scrolled": true
   },
   "outputs": [
    {
     "name": "stdout",
     "output_type": "stream",
     "text": [
      "5\n",
      "55 185\n",
      "58 183\n",
      "88 186\n",
      "60 175\n",
      "46 155\n",
      "2 2 1 2 5 "
     ]
    }
   ],
   "source": [
    "num = int(input())\n",
    "lst = []\n",
    "for i in range(1, num+1):\n",
    "    t = list(map(int, input().split()))\n",
    "    lst.append(t)\n",
    "\n",
    "\n",
    "for i in range(num):\n",
    "    A = 1\n",
    "    for j in range(num):\n",
    "        if lst[i][0] < lst[j][0] and lst[i][1] < lst[j][1]:\n",
    "            A += 1\n",
    "    print(A, end = ' ')"
   ]
  },
  {
   "cell_type": "code",
   "execution_count": null,
   "id": "ea64e80a",
   "metadata": {},
   "outputs": [],
   "source": []
  }
 ],
 "metadata": {
  "kernelspec": {
   "display_name": "Python 3 (ipykernel)",
   "language": "python",
   "name": "python3"
  },
  "language_info": {
   "codemirror_mode": {
    "name": "ipython",
    "version": 3
   },
   "file_extension": ".py",
   "mimetype": "text/x-python",
   "name": "python",
   "nbconvert_exporter": "python",
   "pygments_lexer": "ipython3",
   "version": "3.9.13"
  }
 },
 "nbformat": 4,
 "nbformat_minor": 5
}
