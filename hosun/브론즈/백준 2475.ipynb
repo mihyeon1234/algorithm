{
 "cells": [
  {
   "cell_type": "code",
   "execution_count": null,
   "id": "e3d81a2d",
   "metadata": {},
   "outputs": [],
   "source": [
    "lst= list(map(int,input().split()))\n",
    "total = 0\n",
    "for i in lst :\n",
    "    total += i**2\n",
    "print(total % 10)"
   ]
  }
 ],
 "metadata": {
  "kernelspec": {
   "display_name": "Python 3 (ipykernel)",
   "language": "python",
   "name": "python3"
  },
  "language_info": {
   "codemirror_mode": {
    "name": "ipython",
    "version": 3
   },
   "file_extension": ".py",
   "mimetype": "text/x-python",
   "name": "python",
   "nbconvert_exporter": "python",
   "pygments_lexer": "ipython3",
   "version": "3.9.13"
  }
 },
 "nbformat": 4,
 "nbformat_minor": 5
}
