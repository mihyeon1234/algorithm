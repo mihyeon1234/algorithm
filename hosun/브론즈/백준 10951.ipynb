{
 "cells": [
  {
   "cell_type": "code",
   "execution_count": null,
   "id": "8dfdaa23",
   "metadata": {},
   "outputs": [],
   "source": [
    "while True :\n",
    "    try :\n",
    "        A, B = map(int, input().split())\n",
    "    except :\n",
    "        break\n",
    "    print(A + B)"
   ]
  }
 ],
 "metadata": {
  "kernelspec": {
   "display_name": "Python 3 (ipykernel)",
   "language": "python",
   "name": "python3"
  },
  "language_info": {
   "codemirror_mode": {
    "name": "ipython",
    "version": 3
   },
   "file_extension": ".py",
   "mimetype": "text/x-python",
   "name": "python",
   "nbconvert_exporter": "python",
   "pygments_lexer": "ipython3",
   "version": "3.9.13"
  }
 },
 "nbformat": 4,
 "nbformat_minor": 5
}
